{
 "cells": [
  {
   "cell_type": "markdown",
   "metadata": {},
   "source": [
    "<h1 style=\"color:red\">Thème 5 : La photographie numérique</h1>\n",
    "\n",
    "<h1 style=\"color:blue\"> Manipulation d'image avec Python</h1>\n",
    "\n",
    "La présente page est un **Notebook Jupyter** : c'est une succession de cellules, soit de texte, soit de code.\n",
    "\n",
    "> Mais tout d'abord **félicitations** d'être déjà parvenu à ouvrir ce notebook !\n",
    "\n",
    "Pour **exécuter le code** Python d'une cellule, il faut frapper **`<MAJ-Entrée>`** (ou cliquer sur le bouton <button class='fa fa-step-forward icon-step-forward'></button>, ou encore utiliser le menu `Cell>Run and Select Below...`). \n",
    "\n",
    "\n",
    "> Quand une cellule de code a été exécutée, un chiffre apparait dans les crochets ([ ]), à gauche de la cellule.\n",
    "\n",
    "> _Note : quand le serveur est désactivé, un sablier apparaît en icône de l'onglet <button class='fa fa-hourglass-2'></button> (cela arrive au bout de 10 minutes d'inactivité pour les Notebook Binder en ligne), une étoile apparait; Il faut alors relancer le serveur en cliquant sur <button class='fa fa-repeat'></button>._\n",
    "\n",
    "> Essayez avec la cellule ci-dessous ! _Modifiez les valeurs de A et de B, ou la sortie A+B._\n"
   ]
  },
  {
   "cell_type": "code",
   "execution_count": null,
   "metadata": {},
   "outputs": [],
   "source": [
    "A=2\n",
    "B=3\n",
    "A+B"
   ]
  },
  {
   "cell_type": "markdown",
   "metadata": {},
   "source": [
    "Exécutez la cellule ci-dessous (entrez votre **NOM** et votre **prénom** dans la cellule ci-dessous)"
   ]
  },
  {
   "cell_type": "code",
   "execution_count": null,
   "metadata": {},
   "outputs": [],
   "source": [
    "NP=input(\"Quels sont tes nom et prénom ? \")\n",
    "print(\"Cette saisie sera affichée si besoin dans la suite du notebook\")\n",
    "NP"
   ]
  },
  {
   "cell_type": "markdown",
   "metadata": {},
   "source": [
    "\n",
    "*----------------------------------------------------------------------------------------------------------------------*\n"
   ]
  },
  {
   "cell_type": "markdown",
   "metadata": {},
   "source": [
    "Voici, ci-dessous, un exemple de programme qui permet de manipuler et modifier une image.\n",
    "\n",
    "A la fin de cette séance, vous comprendrez comment il est possible de réaliser ce programme et ce qu'il fait.\n",
    "\n",
    "Exécutez ce programme _(Maj+Entrée)_"
   ]
  },
  {
   "cell_type": "code",
   "execution_count": null,
   "metadata": {},
   "outputs": [],
   "source": [
    "from PIL import Image\n",
    "from PIL import ImageFont\n",
    "from PIL import ImageDraw\n",
    "\n",
    "img = Image.open(\"poisson.jpg\")\n",
    "largeur_image, hauteur_image = img.size\n",
    "img3 = Image.new(\"RGB\", (2*largeur_image, hauteur_image))\n",
    "drawObj = ImageDraw.Draw(img3) \n",
    "police = ImageFont.truetype('arial.ttf', 12)\n",
    "\n",
    "for y in range(hauteur_image):\n",
    "    for x in range(largeur_image):\n",
    "        r,v,b=img.getpixel((x,y))\n",
    "        img3.putpixel((x,y),(r,v,b))\n",
    "        xinv=2*largeur_image-x-1 #abscisse des pixels miroir\n",
    "        g=(r+v+b)//3\n",
    "        if g>120:\n",
    "            img3.putpixel((xinv,y),(80,33,30))\n",
    "        else:\n",
    "            img3.putpixel((xinv,y),(255,255,255))\n",
    "       \n",
    "drawObj.text((largeur_image+10,10),\"par \"+NP+\", font=police, fill=(80,33,30))\n",
    "\n",
    "# Pour finir, on sauvegarde l'image et on la montre\n",
    "img3.save(\"monimage \"+NP+\".png\")\n",
    "img3"
   ]
  },
  {
   "cell_type": "markdown",
   "metadata": {},
   "source": [
    "<h2 style=\"color:blue\">1. Utilisation de la librairie Pillow (PIL)</h2>\n",
    "\n",
    "Pour traiter les images, **Python** dispose, entre autres, d'une librairie nommée **Pillow** que nous appellerons **PIL** (Python Imaging Library) puisqu'elle en est le successeur. Elle est conçue de manière à offrir un accès rapide aux données contenues dans une image, elle est doté d'un pouvoir magique et puissant pour le traitement et la manipulation des différents formats de fichiers images tels que PNG, JPEG, GIF, TIFF et BMP... \n",
    "\n",
    "Il faudra donc commencer par charger l'outil _Image_ de la librairie **PIL**. \n",
    "\n",
    "> `from PIL import Image`\n",
    "\n"
   ]
  },
  {
   "cell_type": "markdown",
   "metadata": {},
   "source": [
    "<h3 style=\"color:red\">Quelques-unes des fonctions que l'on va utiliser dans cette page :</h3>\n",
    "\n",
    "\n",
    "commande       |   résultat\n",
    ":-------------: |:------------- \n",
    "`Image.open(\"Mon_Image.jpg\")` |   Ouverture du fichier *Mon_Image.jpg*\n",
    "`img1=Image.open(\"Mon_Image.jpg\")`| Ouverture du fichier *Mon_Image.jpg* et création de l'objet *img1*\n",
    "`Image.new(\"RGB\", (200,100))`| Création d'une nouvelle image (mode RGB et de taille 200px (largeur) sur 100px (hauteur))\n",
    "`.getpixel((i, j))`     | récupère la couleur du pixel (i,j) de l'image img1 <br> sous la forme d'un tuple (r, v, b)\n",
    "`.putpixel((i, j), (r,v,b))` |  attribue la couleur (r,v,b) au pixel (i,j)\n",
    "`img1.save(\"img2.jpg\")` | enregistre l'image créée sous le sous nom *img2.jpg*\n",
    "`img2.show()`| montre l'image img2 dans le lecteur par défaut de l'ordinateur\n",
    "`ìmg2`| montre l'image img2 directement dans le notebook\n",
    "\n",
    "Toutes les commandes qui sont précédées de `ìmg1` s'appliquent à l'objet _img1_, il faut donc qu'il ait été déclaré avant.\n"
   ]
  },
  {
   "cell_type": "markdown",
   "metadata": {},
   "source": [
    "<hr>\n",
    "Voici un script qui génère une image en couleurs RVB (=RGB en anglais) de dimension 100 x 100.\n",
    "\n",
    "Éxécuter-le.\n"
   ]
  },
  {
   "cell_type": "code",
   "execution_count": null,
   "metadata": {},
   "outputs": [],
   "source": [
    "from PIL import Image\n",
    "im= Image.new(\"RGB\", (100, 100), (100,45,30))\n",
    "im.save(\"monimage_1.png\")  #l'image est sauvegardée dans le serveur Jupyter avec le nom monimage_1.png.\n",
    "\n",
    "print(\" l'image est également accessible par  Menu /File /Open, puis upload (en haut à droite) \\n et peut être téléchargée si besoin.\")\n",
    "im"
   ]
  },
  {
   "cell_type": "markdown",
   "metadata": {},
   "source": [
    " Expliquez la couleur de l’image monimage_1.png"
   ]
  },
  {
   "cell_type": "raw",
   "metadata": {},
   "source": [
    "réponse :"
   ]
  },
  {
   "cell_type": "markdown",
   "metadata": {},
   "source": [
    "Recopier et modifier le code pour changer la couleur de l'image créée _(ne pas recopier le \"print\" ni la sauvegarde)_."
   ]
  },
  {
   "cell_type": "code",
   "execution_count": null,
   "metadata": {},
   "outputs": [],
   "source": []
  },
  {
   "cell_type": "markdown",
   "metadata": {},
   "source": [
    "Dans ce script, tous les pixels sont identiques.\n",
    "\n",
    "Chaque pixel d'une image est repéré par ses **coordonnées x,y**.\n",
    "<img src=\"imagenb.jpg\" alt=\"coordonnées des pixels sur une image\">\n",
    "\n",
    "Comme vous pouvez le constater sur le schéma ci-dessus, le pixel de coordonnées (0,0) se trouve en haut à gauche de l'image. Si l'image fait 800 pixels de large et 600 pixels de haut, le pixel ayant pour coordonnées (100,500) sera en bas à gauche et le pixel(400,300) sera au milieu de l'image. "
   ]
  },
  {
   "cell_type": "markdown",
   "metadata": {},
   "source": [
    "Pour modifier la couleur de l’image, il suffit de modifier la couleur de chaque pixel.\n",
    "\n",
    "On va utiliser la commande **putpixel((x,y), (a, b, c))** qui permet de colorer le pixel de coordonnées (x, y) avec la couleur RVB (r, v, b) où r, v et b sont les valeurs de luminance de chaque canal, comprises entre 0 et 255 et des **boucles** pour répéter l'opération.\n",
    "\n",
    "> <u>Remarque</u> : x est le n° de colonne (largeur) et y est le n° de ligne (hauteur).\n",
    "\n",
    "Compléter le script suivant en ajoutant la double boucle for suivante :\n",
    "\n",
    "> `for x in range (100):          #cette boucle fait varier x de 0 à la valeur 100\n",
    "     for y in range (100):      #cette boucle fait varier y de 0 à la valeur 100 pour chacune des valeurs de x\n",
    ">          im.putpixel((x,y),(0,255,0))`\n",
    "\n",
    "**Attention  !**\n",
    "\n",
    ">Bien respectez l’**indentation** qui délimite les blocs de code (elle se fait avec la touche de tabulation « tab ») et ne pas oubliez pas les « deux-points » : à la fin de la ligne for.\n",
    "\n",
    ">Des caractères s'affichent en rouge si l'indentation est incorrecte."
   ]
  },
  {
   "cell_type": "code",
   "execution_count": null,
   "metadata": {},
   "outputs": [],
   "source": [
    "from PIL import Image\n",
    "im= Image.new(\"RGB\", (100, 100))\n",
    "\n",
    "\n",
    "im"
   ]
  },
  {
   "cell_type": "markdown",
   "metadata": {},
   "source": [
    "Modifier la boucle avec les instructions suivantes.\n",
    "\n",
    ">`for x in range (50):\n",
    "      for y in range (50,100):\n",
    "          im.putpixel((x,y),(0,0,100))`\n",
    "    \n",
    "Expliquer ce qui se passe."
   ]
  },
  {
   "cell_type": "code",
   "execution_count": null,
   "metadata": {},
   "outputs": [],
   "source": [
    " "
   ]
  },
  {
   "cell_type": "raw",
   "metadata": {},
   "source": [
    "réponse :"
   ]
  },
  {
   "cell_type": "markdown",
   "metadata": {},
   "source": [
    "### Fabriquons un drapeau\n",
    "\n",
    "On souhaite créer le drapeau de la France avec le script suivant.\n",
    "\n",
    ">Il comporte deux erreurs. Les corriger."
   ]
  },
  {
   "cell_type": "code",
   "execution_count": null,
   "metadata": {},
   "outputs": [],
   "source": [
    "from PIL import Image\n",
    "col=120\n",
    "lgn=100\n",
    "im2=Image.new(\"RGB\", (col,lgn))  # les nombres de colonnes et de lignes ont été définis avant\n",
    "for y in range (100):\n",
    "        for x in range (col//3):  # Le symbole // est la division entière dans Python\n",
    "            im2.putpixel((x,y),(0,0,255))\n",
    "        for x in range ((col//3), (2*col//3)):\n",
    "            im.putpixel((x,y),(255,255,255))\n",
    "        for x in range ((2*col//3), col):\n",
    "            im2.putpixel((x,y),(125,125,125))\n",
    "im2.save(\"france.png\")\n",
    "im2"
   ]
  },
  {
   "cell_type": "markdown",
   "metadata": {},
   "source": [
    "<hr>\n",
    "\n",
    "<h2 style=\"color:blue\">2. Travail sur de réelles photos</h2>\n"
   ]
  },
  {
   "cell_type": "markdown",
   "metadata": {},
   "source": [
    "La librairie PIL (Python Imaging Library) fournit les outils nécessaires pour les manipulations d'images que nous aborderons dans cette page. Ces manipulations sont simples et il existe des librairies plus complètes pour aborder les fonctions avancées de traitement des images.\n",
    "\n",
    "Il existe différents modules qui contiennent des outils pour agir directement sur toute l'image : contraste, luminosité, format, netteté...\n",
    "\n",
    "La documentation officielle sur la libraire pillow : <a href=\"https://pillow.readthedocs.io/en/stable/\" alt=\"la libraire pillow\" target=\"blank\">https://pillow.readthedocs.io/en/stable/</a>\n",
    "\n",
    "Nous allons nous limiter à quelques commandes faciles à comprendre."
   ]
  },
  {
   "cell_type": "markdown",
   "metadata": {},
   "source": [
    "### 2.1. L'image qui va être utilisée, pour commencer, est *poisson.jpg*\n",
    "\n",
    "Charger l'image _poisson.jpg_ avec la suite de commande suivante :\n",
    "Menu **File** **Open**, puis **upload** (en haut à droite), puis **téléverser**.\n",
    "\n",
    "C'est une image couleur au format RVB, chaque canal étant codé par un octet (valeurs de 0 à 255).  \n",
    "> Il est possible d'utiliser une autre image en la téléchargeant de la même façon :  \n",
    "> Menu **File**  **Open**, puis **upload** *(en haut à droite)*, puis **téléverser**."
   ]
  },
  {
   "cell_type": "code",
   "execution_count": null,
   "metadata": {},
   "outputs": [],
   "source": [
    "from PIL import Image\n",
    "img = Image.open(\"poisson.jpg\")\n",
    "r,v,b=img.getpixel((100,250))\n",
    "print(\"canal rouge : \",r,\"canal vert : \",v,\"canal bleu : \",b)\n",
    "img  # l'image s'affiche en-dessous"
   ]
  },
  {
   "cell_type": "markdown",
   "metadata": {},
   "source": [
    "**Expliquer en quelques lignes** ce que fait ce programme, préciser ce que représentent r, v et b : "
   ]
  },
  {
   "cell_type": "raw",
   "metadata": {},
   "source": []
  },
  {
   "cell_type": "markdown",
   "metadata": {},
   "source": [
    "**Recopier ci-dessous le programme et le modifier**  pour qu'il affiche les valeurs du canal rouge, du canal vert et du canal bleu du pixel de coordonnées (300,200), notez votre réponse :  \n",
    "\n"
   ]
  },
  {
   "cell_type": "code",
   "execution_count": null,
   "metadata": {},
   "outputs": [],
   "source": []
  },
  {
   "cell_type": "raw",
   "metadata": {},
   "source": [
    "Le pixel (300, 200) a pour valeurs : rouge = ..., vert = ..., bleu = ... "
   ]
  },
  {
   "cell_type": "markdown",
   "metadata": {},
   "source": [
    "Il est possible d'accéder aux caractéristiques de l'image avec les commandes suivantes :  \n",
    "\n",
    ">  **.format**  : format de la source de l’image,  \n",
    ">  **.size**  : taille de l’image(largeur, hauteur en pixels),  \n",
    ">  **.mode**  : noms et type des différents canaux de l’image (« RGB » = 3 canaux Rouge, Vert et Bleu – « L » = un canal pour niveaux de gris – …).\n"
   ]
  },
  {
   "cell_type": "code",
   "execution_count": null,
   "metadata": {},
   "outputs": [],
   "source": [
    "img = Image.open(\"poisson.jpg\")\n",
    "print(img.format, img.size, img.mode)"
   ]
  },
  {
   "cell_type": "markdown",
   "metadata": {},
   "source": [
    "Il est possible de modifier les canaux RVB d'un pixel avec *img.putpixel((i, j), (r,v,b))* comme cela a déjà été utilisé précédemment : "
   ]
  },
  {
   "cell_type": "code",
   "execution_count": null,
   "metadata": {},
   "outputs": [],
   "source": [
    "img.putpixel((410,260),(0,0,255))\n",
    "img"
   ]
  },
  {
   "cell_type": "markdown",
   "metadata": {},
   "source": [
    "Bien observer l'image formée. Quelle est la couleur du pixel qui a été modifié ? (sur la gauche de l'oeil)  "
   ]
  },
  {
   "cell_type": "raw",
   "metadata": {},
   "source": [
    "réponse :"
   ]
  },
  {
   "cell_type": "markdown",
   "metadata": {},
   "source": [
    "Que font les 2 lignes de code ? :  \n",
    "> img.putpixel((410,260),(0,0,255))  \n",
    "> img  \n"
   ]
  },
  {
   "cell_type": "raw",
   "metadata": {},
   "source": [
    "réponse :"
   ]
  },
  {
   "cell_type": "markdown",
   "metadata": {},
   "source": [
    "Pour modifier plusieurs pixels, il faut utiliser une boucle (for).  \n",
    "Si la taille de l'image est inconnue, il faut d'abord la déterminer avec la commande *.size* qui renvoie (largeur, puis hauteur)"
   ]
  },
  {
   "cell_type": "code",
   "execution_count": null,
   "metadata": {},
   "outputs": [],
   "source": [
    "img = Image.open(\"poisson.jpg\")\n",
    "largeur_image, hauteur_image = img.size\n",
    "print(\"la largeur est : \",largeur_image,\" pixels et la hauteur : \",hauteur_image)"
   ]
  },
  {
   "cell_type": "markdown",
   "metadata": {},
   "source": [
    "Que fait ce programme suivant ?"
   ]
  },
  {
   "cell_type": "code",
   "execution_count": null,
   "metadata": {},
   "outputs": [],
   "source": [
    "for y in range(hauteur_image):\n",
    "    for x in range(largeur_image):\n",
    "        r,v,b=img.getpixel((x,y))\n",
    "        n_r=v\n",
    "        n_v=b\n",
    "        n_b=r\n",
    "        img.putpixel((x,y),(n_r,n_v,n_b))\n",
    "#img.show()\n",
    "img"
   ]
  },
  {
   "cell_type": "raw",
   "metadata": {},
   "source": []
  },
  {
   "cell_type": "markdown",
   "metadata": {},
   "source": [
    "Écrire un programme qui inverse les valeurs des canaux bleu et rouge sans changer la valeur du canal vert. "
   ]
  },
  {
   "cell_type": "code",
   "execution_count": null,
   "metadata": {},
   "outputs": [],
   "source": []
  },
  {
   "cell_type": "markdown",
   "metadata": {},
   "source": [
    "Écrire un programme qui donne le négatif de l'image (le blanc est remplacé par du noir, le gris clair par du gris foncé, le rouge clair par du rouge foncé..)."
   ]
  },
  {
   "cell_type": "code",
   "execution_count": null,
   "metadata": {},
   "outputs": [],
   "source": []
  },
  {
   "cell_type": "markdown",
   "metadata": {},
   "source": [
    "### 2.2. Image en niveaux de gris.  "
   ]
  },
  {
   "cell_type": "markdown",
   "metadata": {},
   "source": [
    "Gris rapide : faire la moyenne des niveaux r, v et b.  \n",
    "*Attention, le résultat doit être un entier compris entre 0 et 255.*"
   ]
  },
  {
   "cell_type": "code",
   "execution_count": null,
   "metadata": {},
   "outputs": [],
   "source": [
    "img = Image.open(\"poisson.jpg\")\n",
    "largeur_image, hauteur_image = img.size\n",
    "for y in range(hauteur_image):\n",
    "    for x in range(largeur_image):\n",
    "        r,v,b=img.getpixel((x,y))\n",
    "        g=(r+v+b)/3      #quel est le résultat de ce calcul ?\n",
    "        img.putpixel((x,y),(g,g,g))\n",
    "img"
   ]
  },
  {
   "cell_type": "markdown",
   "metadata": {},
   "source": [
    "Pour obtenir un gris plus réaliste, on adapte les proportions de chacun des canaux selon une formule :  \n",
    "    gris=0.21*rouge+0.71*vert+0.07*bleu  \n",
    "    \n",
    ">**Attention** , seule la partie entière du résultat peut être utilisée (fonction _int()_ de Python)."
   ]
  },
  {
   "cell_type": "code",
   "execution_count": null,
   "metadata": {},
   "outputs": [],
   "source": []
  },
  {
   "cell_type": "markdown",
   "metadata": {},
   "source": [
    "Changer d'image pour un autre rendu. Charger l'image portrait1.jpg."
   ]
  },
  {
   "cell_type": "code",
   "execution_count": null,
   "metadata": {},
   "outputs": [],
   "source": []
  },
  {
   "cell_type": "markdown",
   "metadata": {},
   "source": [
    "### 2.3. Image sépia  \n",
    "Le code de la couleur sépia est (94, 38, 18).\n",
    "Il faut récupérer la \"valeur\" du gris (moyenne des niveaux r, v et b (gris simple) ou la moyenne pondérée), puis attribuer une proportion à l'intensité du sépia, selon le niveau de gris."
   ]
  },
  {
   "cell_type": "code",
   "execution_count": null,
   "metadata": {},
   "outputs": [],
   "source": [
    "img = Image.open(\"poisson.jpg\")\n",
    "largeur_image, hauteur_image = img.size\n",
    "seuil=100\n",
    "for y in range(hauteur_image):\n",
    "    for x in range(largeur_image):\n",
    "        rouge,vert,bleu=img.getpixel((x,y))\n",
    "        moyenne=0.2126*rouge+0.7152*vert+0.0722*bleu\n",
    "        if moyenne<seuil:\n",
    "            k=moyenne/seuil\n",
    "            rouge=94*k\n",
    "            vert=38*k\n",
    "            bleu=18*k\n",
    "        else:\n",
    "            k=(moyenne-seuil)/(255-seuil)\n",
    "            rouge=94+k*(255-94)\n",
    "            vert=38+k*(255-38)\n",
    "            bleu=18+k*(255-18)\n",
    "        img.putpixel((x,y),(int(rouge),int(vert),int(bleu)))\n",
    "img\n"
   ]
  },
  {
   "cell_type": "markdown",
   "metadata": {},
   "source": [
    "**Analyser le code** :\n",
    "\n",
    ">Observer l'introduction d'une condition **if** . . . .  **else**.\n",
    "\n",
    ">Modifier la valeur du seuil et observer l'image obtenue."
   ]
  },
  {
   "cell_type": "markdown",
   "metadata": {},
   "source": [
    "Changer d'image pour un autre rendu. Charger l'image portrait1.jpg."
   ]
  },
  {
   "cell_type": "code",
   "execution_count": null,
   "metadata": {},
   "outputs": [],
   "source": [
    "img = Image.open(\"portrait1.jpg\")\n",
    "img"
   ]
  },
  {
   "cell_type": "markdown",
   "metadata": {},
   "source": [
    "Tester la transformation en image sépia avec cette autre image."
   ]
  },
  {
   "cell_type": "code",
   "execution_count": null,
   "metadata": {},
   "outputs": [],
   "source": []
  },
  {
   "cell_type": "markdown",
   "metadata": {},
   "source": [
    "Autre transformation :"
   ]
  },
  {
   "cell_type": "code",
   "execution_count": null,
   "metadata": {},
   "outputs": [],
   "source": [
    "img = Image.open(\"portrait1.jpg\")\n",
    "#input_pixels = input_image.load()\n",
    "largeur_image, hauteur_image = img.size\n",
    "\n",
    "# Creation de la nouvelle image\n",
    "img2 = Image.new(\"RGB\", (largeur_image, hauteur_image))\n",
    "\n",
    "\n",
    "# Création des pixels de cette image\n",
    "for y in range(hauteur_image):\n",
    "    for x in range(largeur_image):\n",
    "        r,v,b=img.getpixel((x,y))\n",
    "        g=(r+v+b)//3\n",
    "        xinv=largeur_image-x-1\n",
    "        img2.putpixel((xinv,y),(g,g,g))\n",
    "\n",
    "img2"
   ]
  },
  {
   "cell_type": "markdown",
   "metadata": {},
   "source": [
    "### Création d'un effet miroir sur la même image (donc de taille double)"
   ]
  },
  {
   "cell_type": "code",
   "execution_count": null,
   "metadata": {},
   "outputs": [],
   "source": [
    "img = Image.open(\"portrait1.jpg\")\n",
    "# récupérer la taille de l'image\n",
    "largeur_image, hauteur_image = img.size\n",
    "\n",
    "# créer nouvelle image de largeur double\n",
    "img3 = Image.new(\"RGB\", (2*largeur_image, hauteur_image))\n",
    "#draw = ImageDraw.Draw(output_image)\n",
    "\n",
    "# créer les pixels, à gauche et à droite\n",
    "for y in range(hauteur_image):\n",
    "    for x in range(largeur_image):\n",
    "        r,v,b=img.getpixel((x,y))\n",
    "        img3.putpixel((x,y),(r,v,b))\n",
    "        xinv=2*largeur_image-x-1 #abscisse des pixels miroir\n",
    "        g=(r+v+b)//3\n",
    "        img3.putpixel((xinv,y),(g,0,0)) #pixels miroir en niveaux de gris\n",
    "img3.save(\"image_et_miroir.jpg\")\n",
    "img3"
   ]
  },
  {
   "cell_type": "code",
   "execution_count": null,
   "metadata": {},
   "outputs": [],
   "source": [
    "img = Image.open(\"portrait1.jpg\")\n",
    "# récupérer la taille de l'image\n",
    "largeur_image, hauteur_image = img.size\n",
    "\n",
    "# créer nouvelle image de largeur double\n",
    "img4 = Image.new(\"RGB\", (2*largeur_image, 2*hauteur_image))\n",
    "#draw = ImageDraw.Draw(output_image)\n",
    "\n",
    "# créer les pixels, à gauche et à droite\n",
    "for y in range(hauteur_image):\n",
    "    for x in range(largeur_image):\n",
    "        r,v,b=img.getpixel((x,y))\n",
    "        img4.putpixel((x,y),(r,v,b))\n",
    "        xinv=2*largeur_image-x-1 #abscisse des pixels miroir\n",
    "        g=(r+v+b)//3\n",
    "        img4.putpixel((xinv,y),(g,0,0)) #pixels miroir en niveaux de gris\n",
    "for y in range(hauteur_image):\n",
    "    for x in range(largeur_image):\n",
    "        r,v,b=img.getpixel((x,y))\n",
    "        g=(r+v+b)//3\n",
    "        if g>125:\n",
    "            img4.putpixel((x,y+hauteur_image),(255,255,255))\n",
    "        else:\n",
    "            img4.putpixel((x,y+hauteur_image),(0,0,255))\n",
    "        xinv=2*largeur_image-x-1 #abscisse des pixels miroir\n",
    "        img4.putpixel((xinv,y+hauteur_image),(0,g,0)) #pixels miroir en niveaux de gris\n",
    "\n",
    "img4.save(\"image_et_miroirx4.jpg\")\n",
    "img4"
   ]
  },
  {
   "cell_type": "markdown",
   "metadata": {},
   "source": [
    "### Autres effets"
   ]
  },
  {
   "cell_type": "code",
   "execution_count": null,
   "metadata": {},
   "outputs": [],
   "source": [
    "img = Image.open(\"poisson.jpg\")\n",
    "largeur_image, hauteur_image = img.size\n",
    "for y in range(hauteur_image):\n",
    "    for x in range(largeur_image):\n",
    "        r,v,b=img.getpixel((x,y))\n",
    "        g=(r+v+b)//3\n",
    "        if g>125:\n",
    "            img.putpixel((x,y),(255,255,255))\n",
    "        else:\n",
    "            img.putpixel((x,y),(0,0,0))\n",
    "#img.show()\n",
    "img"
   ]
  },
  {
   "cell_type": "code",
   "execution_count": null,
   "metadata": {},
   "outputs": [],
   "source": [
    "for y in range(hauteur_image):\n",
    "    for x in range(largeur_image):\n",
    "        r,v,b=img.getpixel((x,y))\n",
    "        g=(r+v+b)//3\n",
    "        if g<125:\n",
    "            img.putpixel((x,y),(255,255,255))\n",
    "        else:\n",
    "            img.putpixel((x,y),(0,0,0))\n",
    "#img.show()\n",
    "img"
   ]
  },
  {
   "cell_type": "markdown",
   "metadata": {},
   "source": [
    "<h1 style=\"color:red\"> enregistrer cette page en html</h1> \n",
    "\n",
    "**Menu** **File** / **Download as** / **HTML**  \n",
    "Puis la récupérer dans le dossier **téléchargement** et la faire parvenir au professeur (via l'ENT)\n",
    "\n",
    "\n",
    "<hr>"
   ]
  }
 ],
 "metadata": {
  "kernelspec": {
   "display_name": "Python 3",
   "language": "python",
   "name": "python3"
  },
  "language_info": {
   "codemirror_mode": {
    "name": "ipython",
    "version": 3
   },
   "file_extension": ".py",
   "mimetype": "text/x-python",
   "name": "python",
   "nbconvert_exporter": "python",
   "pygments_lexer": "ipython3",
   "version": "3.8.5"
  }
 },
 "nbformat": 4,
 "nbformat_minor": 2
}
